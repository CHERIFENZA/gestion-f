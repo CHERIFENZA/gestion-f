{
 "cells": [
  {
   "cell_type": "code",
   "execution_count": null,
   "id": "c76d9201",
   "metadata": {},
   "outputs": [],
   "source": [
    "f = open (r\"C:fichier.txt\", encoding=\"utf8\")\n",
    "print(f.read())"
   ]
  },
  {
   "cell_type": "code",
   "execution_count": 2,
   "id": "f0b2cbae",
   "metadata": {},
   "outputs": [
    {
     "name": "stdout",
     "output_type": "stream",
     "text": [
      "Le fichier n'a pas été trouvé.\n"
     ]
    }
   ],
   "source": [
    "def lire_premieres_lignes(nom_fichier, n):\n",
    "    try:\n",
    "        with open(nom_fichier, 'r') as fichier:\n",
    "            for i in range(n):\n",
    "                ligne = fichier.readline()\n",
    "                if ligne:\n",
    "                    print(ligne.strip())\n",
    "                else:\n",
    "                    break\n",
    "    except FileNotFoundError:\n",
    "        print(\"Le fichier n'a pas été trouvé.\")\n",
    "    except Exception as e:\n",
    "        print(f\"Une erreur s'est produite : {e}\")\n",
    "\n",
    "# Remplacez 'nom_du_fichier.txt' par le nom de votre fichier et 5 par le nombre de lignes à lire.\n",
    "lire_premieres_lignes('nom_du_fichier.txt', 5)"
   ]
  },
  {
   "cell_type": "code",
   "execution_count": null,
   "id": "232631b6",
   "metadata": {},
   "outputs": [],
   "source": [
    "def lire_dernieres_lignes(nom_fichier, n):\n",
    "    try:\n",
    "        with open(nom_fichier, 'r') as fichier:\n",
    "            lignes = fichier.readlines()\n",
    "            if n > len(lignes):\n",
    "                n = len(lignes)\n",
    "            \n",
    "            for ligne in lignes[-n:]:\n",
    "                print(ligne.strip())\n",
    "    except FileNotFoundError:\n",
    "        print(\"Le fichier n'a pas été trouvé.\")\n",
    "    except Exception as e:\n",
    "        print(f\"Une erreur s'est produite : {e}\")\n",
    "\n",
    "# Remplacez 'nom_du_fichier.txt' par le nom de votre fichier et 5 par le nombre de lignes à lire.\n",
    "lire_dernieres_lignes('nom_du_fichier.txt', 5)"
   ]
  },
  {
   "cell_type": "code",
   "execution_count": null,
   "id": "8f76d64c",
   "metadata": {},
   "outputs": [],
   "source": [
    "def count_words(file_path):\n",
    "    try:\n",
    "        with open(file_path, 'r') as file:\n",
    "            content = file.read()\n",
    "            words = content.split()\n",
    "            return len(words)\n",
    "    except FileNotFoundError:\n",
    "        print(\"Le fichier spécifié est introuvable.\")\n",
    "        return 0\n",
    "\n",
    "if __name__ == \"__main__\":\n",
    "    file_path = input(\"Entrez le chemin du fichier texte : \")\n",
    "    word_count = count_words(file_path)\n",
    "    print(f\"Le nombre de mots dans le fichier est : {word_count}\")"
   ]
  }
 ],
 "metadata": {
  "kernelspec": {
   "display_name": "Python 3 (ipykernel)",
   "language": "python",
   "name": "python3"
  },
  "language_info": {
   "codemirror_mode": {
    "name": "ipython",
    "version": 3
   },
   "file_extension": ".py",
   "mimetype": "text/x-python",
   "name": "python",
   "nbconvert_exporter": "python",
   "pygments_lexer": "ipython3",
   "version": "3.10.9"
  }
 },
 "nbformat": 4,
 "nbformat_minor": 5
}
